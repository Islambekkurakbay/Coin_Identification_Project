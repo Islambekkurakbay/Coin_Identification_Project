{
 "cells": [
  {
   "cell_type": "markdown",
   "id": "55dc8d29",
   "metadata": {},
   "source": [
    "<p> You can try your own pics run through ELSD </p>\n",
    "<a href = 'http://dev.ipol.im/~jirafa/ipol_demo/elsd/'> Online ELSD </a>\n",
    "<p> user: demo </p>\n",
    "<p> pass: demo </p>"
   ]
  },
  {
   "cell_type": "markdown",
   "id": "e77cbd33",
   "metadata": {},
   "source": [
    "<img src = 'coin3.jpg' align='left' width = 400>\n",
    "<img src = 'elsp1.png' align='left' width = 400>"
   ]
  },
  {
   "cell_type": "markdown",
   "id": "6ccb1ac5",
   "metadata": {},
   "source": [
    "<a href = 'http://ubee.enseeiht.fr/vision/ELSD/'> Academic paper on ELSD </a> ~~ Check it out"
   ]
  },
  {
   "cell_type": "markdown",
   "id": "bd2af4bc",
   "metadata": {},
   "source": [
    "<a href='https://dsp.stackexchange.com/questions/30016/how-to-calculate-particles-sizes-for-spheric-particles-with-overlapping-and-supe/30167#30167'> StackExchange Answer on ELSD </a>"
   ]
  },
  {
   "cell_type": "markdown",
   "id": "6e52f061",
   "metadata": {},
   "source": [
    "### Code"
   ]
  },
  {
   "cell_type": "code",
   "execution_count": 1,
   "id": "c2ae9f69",
   "metadata": {},
   "outputs": [],
   "source": [
    "# no code available for Python yet, mind creating own?"
   ]
  }
 ],
 "metadata": {
  "kernelspec": {
   "display_name": "Python 3",
   "language": "python",
   "name": "python3"
  },
  "language_info": {
   "codemirror_mode": {
    "name": "ipython",
    "version": 3
   },
   "file_extension": ".py",
   "mimetype": "text/x-python",
   "name": "python",
   "nbconvert_exporter": "python",
   "pygments_lexer": "ipython3",
   "version": "3.8.8"
  }
 },
 "nbformat": 4,
 "nbformat_minor": 5
}
