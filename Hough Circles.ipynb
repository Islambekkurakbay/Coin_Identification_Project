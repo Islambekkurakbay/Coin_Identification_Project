{
 "cells": [
  {
   "cell_type": "code",
   "execution_count": 1,
   "id": "2bc6b413",
   "metadata": {},
   "outputs": [
    {
     "name": "stdout",
     "output_type": "stream",
     "text": [
      "Requirement already satisfied: opencv-python in c:\\users\\islam\\anaconda3\\lib\\site-packages (4.5.5.64)\n",
      "Requirement already satisfied: numpy>=1.14.5 in c:\\users\\islam\\anaconda3\\lib\\site-packages (from opencv-python) (1.20.1)\n"
     ]
    }
   ],
   "source": [
    "!pip3 install opencv-python"
   ]
  },
  {
   "cell_type": "markdown",
   "id": "ec13c48a",
   "metadata": {},
   "source": [
    "<p>cv2.HoughCircles(image, method, dp, minDist)</p>\n",
    "<ul>Where:\n",
    "    <li>Image is the image file converted to grey scale.</li>\n",
    "    <li>Method is the algorithm used to detct the circles.</li>\n",
    "    <li>Dp is the inverse ratio of the accumulator resolution to the image resolution.</li>\n",
    "    <li>minDist is the Minimum distance between the center coordinates of detected circles.</li></ul>"
   ]
  },
  {
   "cell_type": "markdown",
   "id": "2ede93ae",
   "metadata": {},
   "source": [
    "## The aim is to learn detecting and calculating the amount of coins in the photo."
   ]
  },
  {
   "cell_type": "markdown",
   "id": "6cdfa20f",
   "metadata": {},
   "source": [
    "### First try"
   ]
  },
  {
   "cell_type": "code",
   "execution_count": 18,
   "id": "0014991a",
   "metadata": {},
   "outputs": [
    {
     "name": "stdout",
     "output_type": "stream",
     "text": [
      "[[457 111  90]\n",
      " [236 131  70]\n",
      " [738 601  70]\n",
      " [510 522  69]\n",
      " [951 479  82]\n",
      " [287 257  56]\n",
      " [821 275  63]]\n"
     ]
    },
    {
     "data": {
      "text/plain": [
       "-1"
      ]
     },
     "execution_count": 18,
     "metadata": {},
     "output_type": "execute_result"
    }
   ],
   "source": [
    "import cv2\n",
    "import numpy as np\n",
    "\n",
    "image = cv2.imread('my_coins1.jpg')\n",
    "\n",
    "output = image.copy()\n",
    "\n",
    "img = cv2.cvtColor(image, cv2.COLOR_BGR2GRAY)\n",
    "\n",
    "# Find circles\n",
    "circles = cv2.HoughCircles(img, cv2.HOUGH_GRADIENT, 1.3, 100)\n",
    "\n",
    "# If some circle is found\n",
    "if circles is not None:\n",
    "    \n",
    "   # Get the (x, y, r) as integers\n",
    "    circles = np.round(circles[0, :]).astype(\"int\")\n",
    "    print(circles)\n",
    "    \n",
    "   # loop over the circles\n",
    "    for (x, y, r) in circles:\n",
    "        cv2.circle(output, (x, y), r, (0, 255, 0), 2)\n",
    "        \n",
    "# show the output image\n",
    "cv2.imshow(\"circle\", output)\n",
    "cv2.waitKey(0)"
   ]
  },
  {
   "cell_type": "markdown",
   "id": "2c2452b5",
   "metadata": {},
   "source": [
    "### Steps:\n",
    "<ol> <li> Original Image --> Gaussian Blur --> Determining Edges </li>\n",
    "    <li> Generate the reference circles (first two loops)</li>\n",
    "    <li> Identify Coins </li></ol>\n",
    "    "
   ]
  },
  {
   "cell_type": "code",
   "execution_count": 4,
   "id": "aacd73f6",
   "metadata": {},
   "outputs": [],
   "source": [
    "# 1. Blurring\n",
    "import cv2\n",
    "import numpy\n",
    "\n",
    "# read image\n",
    "src = cv2.imread('my_coins1.jpg', cv2.IMREAD_UNCHANGED)\n",
    "\n",
    "# apply guassian blur on src image\n",
    "dst = cv2.GaussianBlur(src,(1,1), cv2.BORDER_DEFAULT)  #choosing how much to blur\n",
    "\n",
    "# display input and output image\n",
    "cv2.imshow(\"Gaussian Blur\", dst)\n",
    "save_me = cv2.imwrite('blurred_coins1.jpg', dst)  #save your cv2 image\n",
    "\n",
    "cv2.waitKey(0) # closes when key is pressed\n",
    "cv2.destroyAllWindows() # destroys the window showing image"
   ]
  },
  {
   "cell_type": "code",
   "execution_count": 5,
   "id": "9e32c007",
   "metadata": {},
   "outputs": [
    {
     "name": "stdout",
     "output_type": "stream",
     "text": [
      "[[262 244 180]\n",
      " [288 146 146]\n",
      " [314 335 118]\n",
      " [ 71 427 329]\n",
      " [151 242  93]\n",
      " [362 242 102]\n",
      " [  7 272 236]\n",
      " [298 454 127]\n",
      " [ 76 135  89]\n",
      " [358  72  53]\n",
      " [  3   7 217]\n",
      " [203  55  38]\n",
      " [196 345  44]\n",
      " [103  37  34]]\n"
     ]
    }
   ],
   "source": [
    "# 2. Determine Edges\n",
    "import cv2\n",
    "import numpy as np\n",
    "import matplotlib.pyplot as plt\n",
    "\n",
    "\n",
    "image = cv2.imread('blurred_coins1.jpg')\n",
    "\n",
    "output = image.copy()\n",
    "\n",
    "img = cv2.cvtColor(image, cv2.COLOR_BGR2GRAY)\n",
    "\n",
    "# Find circles\n",
    "circles = cv2.HoughCircles(img, cv2.HOUGH_GRADIENT, 1.3, 100)\n",
    "\n",
    "# If some circle is found\n",
    "if circles is not None:\n",
    "    \n",
    "   # Get the (x, y, r) as integers\n",
    "    circles = np.round(circles[0, :]).astype(\"int\")\n",
    "    print(circles)\n",
    "    \n",
    "   # loop over the circles\n",
    "    for (x, y, r) in circles:\n",
    "        cv2.circle(output, (x, y), r, (0, 255, 0), 2)\n",
    "        \n",
    "# show the output image\n",
    "cv2.imshow(\"circle\", output)\n",
    "cv2.waitKey(0)\n",
    "cv2.destroyAllWindows() # destroys the window showing image"
   ]
  },
  {
   "cell_type": "markdown",
   "id": "47aeaf0b",
   "metadata": {},
   "source": [
    "### Hough Circles\n",
    "<li><b>gray:</b> Input image (grayscale).</li>\n",
    "<li><b>circles:</b> A vector that stores sets of 3 values: xc,yc,r for each detected circle.</li>\n",
    "<li><b>HOUGH_GRADIENT:</b> Define the detection method. Currently this is the only one available in OpenCV.</li>\n",
    "<li><b>dp = 1:</b> The inverse ratio of resolution.</li>\n",
    "<li><b>min_dist = gray.rows/16:</b> Minimum distance between detected centers.</li>\n",
    "<li><b>param_1 = 200:</b> Upper threshold for the internal Canny edge detector.</li>\n",
    "<li><b>param_2 = 100*:</b> Threshold for center detection.</li>\n",
    "<li><b>min_radius = 0:</b> Minimum radius to be detected. If unknown, put zero as default.</li>\n",
    "<li><b>max_radius = 0:</b> Maximum radius to be detected. If unknown, put zero as default.</li>"
   ]
  },
  {
   "cell_type": "code",
   "execution_count": 1,
   "id": "7c4df6d1",
   "metadata": {},
   "outputs": [
    {
     "name": "stdout",
     "output_type": "stream",
     "text": [
      "The total amount is 81 Tenge\n",
      "1 Tenge = 1x\n",
      "5 Tenge = 2x\n",
      "20 Tenge = 1x\n",
      "50 Tenge = 1x\n",
      "10 Tenge = 0x\n"
     ]
    }
   ],
   "source": [
    "#Using Tina's source code\n",
    "\"\"\"\n",
    "Coin recognition, real life application\n",
    "task: calculate the value of coins on picture\n",
    "\"\"\"\n",
    "\n",
    "import cv2    # import essential libraries\n",
    "import numpy as np\n",
    "\n",
    "def detect_coins():\n",
    "    coins = cv2.imread('my_coins1.jpg', 1)   #import the photo\n",
    "\n",
    "    gray = cv2.cvtColor(coins, cv2.COLOR_BGR2GRAY)   # filter to make it easier\n",
    "    img = cv2.medianBlur(gray, 7)     # light blur\n",
    "    circles = cv2.HoughCircles(      # detecting the circles\n",
    "        img,  # source image\n",
    "        cv2.HOUGH_GRADIENT,  # type of detection\n",
    "        1,   #inverse ratio of revolution\n",
    "        50,   # minimum distance between detected circles\n",
    "        param1=100,   \n",
    "        param2=50,\n",
    "        minRadius=10,  # minimal radius\n",
    "        maxRadius=380,  # max radius\n",
    "    )\n",
    "\n",
    "    coins_copy = coins.copy()   # copy the image coins\n",
    "\n",
    "\n",
    "    for detected_circle in circles[0]:   # for each detected circle\n",
    "        x_coor, y_coor, detected_radius = detected_circle    # their coordinates and radius\n",
    "        coins_detected = cv2.circle(coins_copy, (int(x_coor), int(y_coor)), int(detected_radius), (0, 255, 0), 4,)\n",
    "\n",
    "    cv2.imwrite(\"my_coins_Tina.jpg\", coins_detected)\n",
    "\n",
    "    return circles\n",
    "\n",
    "def calculate_amount():\n",
    "    tenges = {\n",
    "        \"1 Tenge\": {\n",
    "            \"value\": 1,     \n",
    "            \"radius\": 20,     # 15 (diameter)\n",
    "            \"ratio\": 1,\n",
    "            \"count\": 0,\n",
    "        },\n",
    "        \"5 Tenge\": {\n",
    "            \"value\": 5,\n",
    "            \"radius\": 21.5,  # 17,27 (diameter)\n",
    "            \"ratio\": 1.1,\n",
    "            \"count\": 0,\n",
    "        },\n",
    "        \"20 Tenge\": {\n",
    "            \"value\": 20,   \n",
    "            \"radius\": 24.5,   # 18,27 (diameter)\n",
    "            \"ratio\": 1.17,\n",
    "            \"count\": 0,\n",
    "        },\n",
    "        \"50 Tenge\": {\n",
    "            \"value\": 50,\n",
    "            \"radius\": 30,   # 23 (diameter)\n",
    "            \"ratio\": 1.45,\n",
    "            \"count\": 0,\n",
    "        },\n",
    "        \"10 Tenge\": {\n",
    "            \"value\": 10,  \n",
    "            \"radius\": 27.5,    # 19,56 (diameter)\n",
    "            \"ratio\": 1.3,\n",
    "            \"count\": 0,\n",
    "        },\n",
    "}\n",
    "\n",
    "    circles = detect_coins()\n",
    "    radius = []\n",
    "    coordinates = []\n",
    "\n",
    "    for detected_circle in circles[0]:\n",
    "        x_coor, y_coor, detected_radius = detected_circle\n",
    "        radius.append(detected_radius)\n",
    "        coordinates.append([x_coor, y_coor])\n",
    "        #print(detected_radius)\n",
    "\n",
    "    smallest = min(radius)\n",
    "    tolerance = 0.0375\n",
    "    total_amount = 0\n",
    "\n",
    "    coins_circled = cv2.imread('my_coins_Tina.jpg', 1)\n",
    "    font = cv2.FONT_HERSHEY_SIMPLEX\n",
    "\n",
    "    for coin in circles[0]:\n",
    "        ratio_to_check = coin[2] / smallest\n",
    "        coor_x = coin[0]\n",
    "        coor_y = coin[1]\n",
    "        for tenge in tenges:\n",
    "            value = tenges[tenge]['value']\n",
    "            if abs(ratio_to_check - tenges[tenge]['ratio']) <= tolerance:\n",
    "                tenges[tenge]['count'] += 1\n",
    "                total_amount += tenges[tenge]['value']\n",
    "                cv2.putText(coins_circled, str(value), (int(coor_x), int(coor_y)), font, 1.5, (0, 0, 0), 4)   #putting text\n",
    "\n",
    "    print(f\"The total amount is {total_amount} Tenge\")\n",
    "\n",
    "    for tenge in tenges:\n",
    "        pieces = tenges[tenge]['count']\n",
    "        print(f\"{tenge} = {pieces}x\")\n",
    "\n",
    "\n",
    "    cv2.imwrite(\"my_coins_Tina.jpg\", coins_circled)\n",
    "\n",
    "\n",
    "\n",
    "if __name__ == \"__main__\":\n",
    "    calculate_amount()\n",
    "    img = cv2.imread(\"my_coins_Tina.jpg\", cv2.IMREAD_COLOR)\n",
    "    cv2.imshow(\"my_calculated_coins\", img)\n",
    "    cv2.waitKey(0)\n",
    "    cv2.destroyAllWindows()\n"
   ]
  },
  {
   "cell_type": "markdown",
   "id": "c8f78e50",
   "metadata": {},
   "source": [
    "### Course Try - understandable"
   ]
  },
  {
   "cell_type": "code",
   "execution_count": 1,
   "id": "1f9e2821",
   "metadata": {},
   "outputs": [
    {
     "name": "stdout",
     "output_type": "stream",
     "text": [
      "[89, 118, 103, 94, 119, 103, 99, 110, 119, 72]  - radii\n",
      "[157.105625, 185.263125, 71.174375, 123.93875, 91.0225, 73.185, 95.730625, 145.915, 81.786875, 91.119375]  - brightness\n",
      "[5, 10, 1, 1, 2, 1, 1, 2, 1]\n",
      "\n",
      "ESTIMATED TOTAL VALUE: 24 tenge\n"
     ]
    }
   ],
   "source": [
    "# My Own Try\n",
    "\n",
    "# Identifying coins by their brightness and radii\n",
    "import cv2\n",
    "import numpy as np\n",
    "\n",
    "def av_pix(my_img,circles,size):   # brightness\n",
    "    av_value = []\n",
    "    for coords in circles[0,:]:\n",
    "        col = np.mean(my_img[coords[1]-size:coords[1]+size,coords[0]-size:coords[0]+size])\n",
    "        #print(img[coords[1]-size:coords[1]+size,coords[0]-size:coords[0]+size])\n",
    "        av_value.append(col)\n",
    "    return av_value   \n",
    "\n",
    "\n",
    "def get_radius(circles):   # radii identifying\n",
    "    radius = []\n",
    "    for coords in circles[0,:]:\n",
    "        radius.append(coords[2])    \n",
    "    return radius\n",
    "\n",
    "\n",
    "my_img = cv2.imread('capstone-coins1.png', cv2.IMREAD_GRAYSCALE)    # turning the photo gray\n",
    "original_img = cv2.imread('capstone-coins1.png', 1)   # just original photo\n",
    "my_img = cv2.GaussianBlur(my_img, (3,3),0)    # making blur\n",
    "\n",
    "\n",
    "#Hough Circle Detection\n",
    "circles = cv2.HoughCircles(my_img, cv2.HOUGH_GRADIENT, 0.9, 120, param1=50, param2=27, minRadius=60, maxRadius=120)\n",
    "# print(circles)\n",
    "\n",
    "circles = np.uint16(np.around(circles))  # round floats to integers \n",
    "\n",
    "count = 0\n",
    "for i in circles[0,:]:  # for each circle\n",
    "    #draw the outer circle\n",
    "    cv2.circle(my_img, (i[0],i[1]),i[2],(0,255,0),2)\n",
    "    \n",
    "    #draw the center of the circle\n",
    "    cv2.circle(my_img, (i[0],i[1]),2,(0,255,0),3)\n",
    "    cv2.putText(my_img, str(count),(i[0],i[1]), cv2.FONT_HERSHEY_SIMPLEX, 2, (0,0,0), 2)\n",
    "    \n",
    "    count+=1\n",
    "    \n",
    "\n",
    "radii = get_radius(circles)\n",
    "print(radii, \" - radii\")\n",
    "\n",
    "bright_values = av_pix(my_img,circles,20)\n",
    "print(bright_values, \" - brightness\")\n",
    "\n",
    "values = []\n",
    "for a,b in zip(bright_values,radii):    # classifying coins by their brightness and radii\n",
    "    if a > 150 and b > 110:\n",
    "        values.append(10)\n",
    "    elif a > 150 and b <= 110:\n",
    "        values.append(5)\n",
    "    elif a < 150 and b > 110:\n",
    "        values.append(2)\n",
    "    elif a < 150 and b < 110:\n",
    "        values.append(1)        \n",
    "print(values)           \n",
    "count_2 = 0\n",
    "\n",
    "# for i in circles[0,:]:\n",
    "#     cv2.putText(my_img, str(values[count_2]) + 'p',(i[0],i[1]), cv2.FONT_HERSHEY_SIMPLEX, 2, (0,0,0), 2)  # somewhere mistake - list out of index\n",
    "#     count_2 += 1\n",
    "    \n",
    "# cv2.putText(my_img, 'ESTIMATED TOTAL VALUE: ' + str(sum(values)) + 'p', (200,100), cv2.FONT_HERSHEY_SIMPLEX, 1.3, 255)\n",
    "print()\n",
    "print(f'ESTIMATED TOTAL VALUE: {sum(values)} tenge')\n",
    "\n",
    "# cv2.imshow('Photos of coins', my_img)     # show the photos\n",
    "# cv2.waitKey(0)     # when key pressed\n",
    "# cv2.destroyAllWindows()  # close all windows\n"
   ]
  }
 ],
 "metadata": {
  "kernelspec": {
   "display_name": "Python 3",
   "language": "python",
   "name": "python3"
  },
  "language_info": {
   "codemirror_mode": {
    "name": "ipython",
    "version": 3
   },
   "file_extension": ".py",
   "mimetype": "text/x-python",
   "name": "python",
   "nbconvert_exporter": "python",
   "pygments_lexer": "ipython3",
   "version": "3.8.8"
  }
 },
 "nbformat": 4,
 "nbformat_minor": 5
}
