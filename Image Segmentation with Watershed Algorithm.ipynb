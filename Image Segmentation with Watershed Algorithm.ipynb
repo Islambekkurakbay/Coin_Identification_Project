{
 "cells": [
  {
   "cell_type": "markdown",
   "id": "496ba726",
   "metadata": {},
   "source": [
    "## Image segmentation using Watershed Algorithm"
   ]
  },
  {
   "cell_type": "markdown",
   "id": "5b6dd203",
   "metadata": {},
   "source": [
    "<img src = '1Y0sL.jpg' align='left' width = 600>"
   ]
  },
  {
   "cell_type": "markdown",
   "id": "7aa748f4",
   "metadata": {},
   "source": [
    "###  Steps:"
   ]
  },
  {
   "cell_type": "markdown",
   "id": "5e15e342",
   "metadata": {},
   "source": [
    "<ul>\n",
    "    <li> Convert image to grayscale </li>\n",
    "<li>Otsu's threshold to obtain a binary image</li>\n",
    "<li>Compute Euclidean Distance Transform</li>\n",
    "<li>Perform connected component analysis</li>\n",
    "<li>Apply watershed</li>\n",
    "<li>Iterate through label values and extract objects</li></ul>"
   ]
  },
  {
   "cell_type": "markdown",
   "id": "24f475ec",
   "metadata": {},
   "source": [
    "##### <a href = ' https://opencv24-python-tutorials.readthedocs.io/en/latest/py_tutorials/py_imgproc/py_watershed/py_watershed.html' > Source Code </a>"
   ]
  },
  {
   "cell_type": "code",
   "execution_count": 14,
   "id": "b95f7cc7",
   "metadata": {},
   "outputs": [],
   "source": [
    "pass"
   ]
  },
  {
   "cell_type": "markdown",
   "id": "4844d877",
   "metadata": {},
   "source": [
    "##### <a href = ' https://theailearner.com/tag/watershed-algorithm-opencv-python/' > Source Code 2 </a>"
   ]
  },
  {
   "cell_type": "markdown",
   "id": "676b16d2",
   "metadata": {},
   "source": [
    "<img src = '1.jpg' align = 'left' width = 500 height = 300>"
   ]
  },
  {
   "cell_type": "markdown",
   "id": "94047281",
   "metadata": {},
   "source": [
    "<img src = 'coin1.jpg' align = 'left'>"
   ]
  },
  {
   "cell_type": "code",
   "execution_count": 1,
   "id": "0250decd",
   "metadata": {},
   "outputs": [],
   "source": [
    "# IMPORTANT 1\n",
    "import cv2\n",
    "\n",
    "image = cv2.imread('coin1.jpg')\n",
    "gray = cv2.cvtColor(image,cv2.COLOR_BGR2GRAY)\n",
    "ret, thresh = cv2.threshold(gray,0,255,cv2.THRESH_BINARY+cv2.THRESH_OTSU)   # changes the gray image to array"
   ]
  },
  {
   "cell_type": "code",
   "execution_count": 2,
   "id": "009a9902",
   "metadata": {},
   "outputs": [
    {
     "data": {
      "text/plain": [
       "(278, 301)"
      ]
     },
     "execution_count": 2,
     "metadata": {},
     "output_type": "execute_result"
    }
   ],
   "source": [
    "thresh.shape"
   ]
  },
  {
   "cell_type": "code",
   "execution_count": 3,
   "id": "8bea1172",
   "metadata": {},
   "outputs": [],
   "source": [
    "cv2.imshow('Gray image', gray)   # gray image of coins\n",
    "cv2.waitKey(0) \n",
    "cv2.destroyAllWindows() "
   ]
  },
  {
   "cell_type": "code",
   "execution_count": 4,
   "id": "7d7d7330",
   "metadata": {},
   "outputs": [],
   "source": [
    "cv2.imshow('Thresh', thresh)    # contours with holes\n",
    "cv2.waitKey(0) \n",
    "cv2.destroyAllWindows() "
   ]
  },
  {
   "cell_type": "markdown",
   "id": "79258c14",
   "metadata": {},
   "source": [
    "##### To remove holes in coins"
   ]
  },
  {
   "cell_type": "code",
   "execution_count": 5,
   "id": "7624525d",
   "metadata": {},
   "outputs": [],
   "source": [
    "# IMPORTANT 2\n",
    "import numpy as np\n",
    "\n",
    "kernel = np.ones((3,3),np.uint8)\n",
    "closing = cv2.morphologyEx(thresh,cv2.MORPH_CLOSE, kernel, iterations = 1)"
   ]
  },
  {
   "cell_type": "code",
   "execution_count": 6,
   "id": "07df5485",
   "metadata": {},
   "outputs": [],
   "source": [
    "cv2.imshow('closing', closing) \n",
    "cv2.waitKey(0) \n",
    "cv2.destroyAllWindows() "
   ]
  },
  {
   "cell_type": "markdown",
   "id": "079030ed",
   "metadata": {},
   "source": [
    "##### Distance Transforming"
   ]
  },
  {
   "cell_type": "code",
   "execution_count": 6,
   "id": "95104e39",
   "metadata": {},
   "outputs": [],
   "source": [
    "# IMPORTANT 3\n",
    "dist = cv2.distanceTransform(closing, cv2.DIST_L2, 3)"
   ]
  },
  {
   "cell_type": "code",
   "execution_count": 8,
   "id": "16fd634b",
   "metadata": {},
   "outputs": [],
   "source": [
    "cv2.imshow('distance tranform', dist) \n",
    "cv2.waitKey(0) \n",
    "cv2.destroyAllWindows() "
   ]
  },
  {
   "cell_type": "markdown",
   "id": "70781331",
   "metadata": {},
   "source": [
    "##### Extract each coin using threshold"
   ]
  },
  {
   "cell_type": "code",
   "execution_count": 7,
   "id": "59762154",
   "metadata": {},
   "outputs": [],
   "source": [
    "# IMPORTANT 4\n",
    "ret, dist1 = cv2.threshold(dist, 0.6*dist.max(), 255, 0)"
   ]
  },
  {
   "cell_type": "code",
   "execution_count": 10,
   "id": "e51acaf9",
   "metadata": {},
   "outputs": [],
   "source": [
    "cv2.imshow('threshold', dist1) \n",
    "cv2.waitKey(0) \n",
    "cv2.destroyAllWindows() "
   ]
  },
  {
   "cell_type": "markdown",
   "id": "12e1ac60",
   "metadata": {},
   "source": [
    "##### Label each coin and add markers"
   ]
  },
  {
   "cell_type": "code",
   "execution_count": 8,
   "id": "6841d8b1",
   "metadata": {},
   "outputs": [],
   "source": [
    "# IMPORTANT 5\n",
    "markers = np.zeros(dist.shape, dtype=np.int32)\n",
    "dist_8u = dist1.astype('uint8')\n",
    "contours, _ = cv2.findContours(dist_8u, cv2.RETR_EXTERNAL, cv2.CHAIN_APPROX_SIMPLE)\n",
    "for i in range(len(contours)):\n",
    "    cv2.drawContours(markers, contours, i, (i+1), -1)"
   ]
  },
  {
   "cell_type": "code",
   "execution_count": 9,
   "id": "7371c579",
   "metadata": {},
   "outputs": [],
   "source": [
    "# IMPORTANT 6\n",
    "markers = cv2.circle(markers, (15,15), 5, len(contours)+1, -1)"
   ]
  },
  {
   "cell_type": "code",
   "execution_count": 10,
   "id": "140cda90",
   "metadata": {},
   "outputs": [
    {
     "data": {
      "text/plain": [
       "(278, 301)"
      ]
     },
     "execution_count": 10,
     "metadata": {},
     "output_type": "execute_result"
    }
   ],
   "source": [
    "markers.shape"
   ]
  },
  {
   "cell_type": "markdown",
   "id": "34bc1a0e",
   "metadata": {},
   "source": [
    "##### Visualize"
   ]
  },
  {
   "cell_type": "code",
   "execution_count": 11,
   "id": "07fa2267",
   "metadata": {},
   "outputs": [],
   "source": [
    "# IMPORTANT 7\n",
    "markers = cv2.watershed(image, markers)\n",
    "image[markers == -1] = [0,0,255]"
   ]
  },
  {
   "cell_type": "code",
   "execution_count": 12,
   "id": "a4189036",
   "metadata": {},
   "outputs": [
    {
     "data": {
      "text/plain": [
       "True"
      ]
     },
     "execution_count": 12,
     "metadata": {},
     "output_type": "execute_result"
    }
   ],
   "source": [
    "cv2.imwrite('new1.jpg', image)"
   ]
  },
  {
   "cell_type": "markdown",
   "id": "a157c770",
   "metadata": {},
   "source": [
    "<img src = 'new1.jpg' align = 'left'>"
   ]
  },
  {
   "cell_type": "code",
   "execution_count": 13,
   "id": "c8cc25c7",
   "metadata": {},
   "outputs": [
    {
     "data": {
      "text/plain": [
       "array([[-1, -1, -1, ..., -1, -1, -1],\n",
       "       [-1,  4,  4, ...,  4,  4, -1],\n",
       "       [-1,  4,  4, ...,  4,  4, -1],\n",
       "       ...,\n",
       "       [-1,  4,  4, ...,  4,  4, -1],\n",
       "       [-1,  4,  4, ...,  4,  4, -1],\n",
       "       [-1, -1, -1, ..., -1, -1, -1]])"
      ]
     },
     "execution_count": 13,
     "metadata": {},
     "output_type": "execute_result"
    }
   ],
   "source": [
    "markers"
   ]
  },
  {
   "cell_type": "markdown",
   "id": "0ad13fff",
   "metadata": {},
   "source": [
    "### Advantages: finds overlapping coins"
   ]
  },
  {
   "cell_type": "markdown",
   "id": "11fb16e5",
   "metadata": {},
   "source": [
    "### Disadvantages: do not count coins"
   ]
  },
  {
   "cell_type": "code",
   "execution_count": null,
   "id": "607f89e6",
   "metadata": {},
   "outputs": [],
   "source": []
  }
 ],
 "metadata": {
  "kernelspec": {
   "display_name": "Python 3",
   "language": "python",
   "name": "python3"
  },
  "language_info": {
   "codemirror_mode": {
    "name": "ipython",
    "version": 3
   },
   "file_extension": ".py",
   "mimetype": "text/x-python",
   "name": "python",
   "nbconvert_exporter": "python",
   "pygments_lexer": "ipython3",
   "version": "3.8.8"
  }
 },
 "nbformat": 4,
 "nbformat_minor": 5
}
