{
 "cells": [
  {
   "cell_type": "markdown",
   "id": "9aa93164",
   "metadata": {},
   "source": [
    "## Disclaimer: this code is <em>old</em>"
   ]
  },
  {
   "cell_type": "markdown",
   "id": "d89a7931",
   "metadata": {},
   "source": [
    "<img src='cards.png' align = 'left' width = 400>"
   ]
  },
  {
   "cell_type": "code",
   "execution_count": 2,
   "id": "bad8f92c",
   "metadata": {},
   "outputs": [],
   "source": [
    "import numpy as np\n",
    "import cv2"
   ]
  },
  {
   "cell_type": "markdown",
   "id": "d6a9c6c1",
   "metadata": {},
   "source": [
    "##### Loading the file"
   ]
  },
  {
   "cell_type": "code",
   "execution_count": 3,
   "id": "1de0756e",
   "metadata": {},
   "outputs": [],
   "source": [
    "src = cv2.imread('cards.png')\n",
    "\n",
    "# Show source image\n",
    "cv2.imshow('Source Image', src)\n",
    "cv2.waitKey(0)\n",
    "cv2.destroyAllWindows()"
   ]
  },
  {
   "cell_type": "markdown",
   "id": "247b4bbb",
   "metadata": {},
   "source": [
    "##### Applying black background"
   ]
  },
  {
   "cell_type": "code",
   "execution_count": 4,
   "id": "77b6ba79",
   "metadata": {},
   "outputs": [],
   "source": [
    "src[np.all(src == 255, axis=2)] = 0\n",
    "\n",
    "# Show output image\n",
    "cv2.imshow('Black Background Image', src)\n",
    "cv2.waitKey(0)\n",
    "cv2.destroyAllWindows()"
   ]
  },
  {
   "cell_type": "markdown",
   "id": "eb015fa3",
   "metadata": {},
   "source": [
    "##### Applying laplacian filter"
   ]
  },
  {
   "cell_type": "code",
   "execution_count": 5,
   "id": "5fa739c9",
   "metadata": {},
   "outputs": [],
   "source": [
    "# Create a kernel that we will use to sharpen our image\n",
    "# an approximation of second derivative, a quite strong kernel\n",
    "kernel = np.array([[1, 1, 1], [1, -8, 1], [1, 1, 1]], dtype=np.float32)\n",
    "\n",
    "\n",
    "# do the laplacian filtering as it is\n",
    "# well, we need to convert everything in something more deeper then CV_8U\n",
    "# because the kernel has some negative values,\n",
    "# and we can expect in general to have a Laplacian image with negative values\n",
    "# BUT a 8bits unsigned int (the one we are working with) can contain values from 0 to 255\n",
    "# so the possible negative number will be truncated\n",
    "imgLaplacian = cv2.filter2D(src, cv2.CV_32F, kernel)\n",
    "sharp = np.float32(src)\n",
    "imgResult = sharp - imgLaplacian\n",
    "\n",
    "# convert back to 8bits gray scale\n",
    "imgResult = np.clip(imgResult, 0, 255)\n",
    "imgResult = imgResult.astype('uint8')\n",
    "imgLaplacian = np.clip(imgLaplacian, 0, 255)\n",
    "imgLaplacian = np.uint8(imgLaplacian)\n",
    "\n",
    "#cv.imshow('Laplace Filtered Image', imgLaplacian)\n",
    "cv2.imshow('New Sharped Image', imgResult)\n",
    "cv2.waitKey(0)\n",
    "cv2.destroyAllWindows()"
   ]
  },
  {
   "cell_type": "markdown",
   "id": "1b03498c",
   "metadata": {},
   "source": [
    "##### Grayscale and Binary"
   ]
  },
  {
   "cell_type": "code",
   "execution_count": 6,
   "id": "69fe6d7f",
   "metadata": {},
   "outputs": [],
   "source": [
    "# Create binary image from source image\n",
    "bw = cv2.cvtColor(imgResult, cv2.COLOR_BGR2GRAY)\n",
    "_, bw = cv2.threshold(bw, 40, 255, cv2.THRESH_BINARY | cv2.THRESH_OTSU)\n",
    "cv2.imshow('Binary Image', bw)\n",
    "cv2.waitKey(0)\n",
    "cv2.destroyAllWindows()"
   ]
  },
  {
   "cell_type": "markdown",
   "id": "d6671a69",
   "metadata": {},
   "source": [
    "##### Distance Transform"
   ]
  },
  {
   "cell_type": "code",
   "execution_count": 7,
   "id": "e344a54b",
   "metadata": {},
   "outputs": [],
   "source": [
    "# Perform the distance transform algorithm\n",
    "dist = cv2.distanceTransform(bw, cv2.DIST_L2, 3)\n",
    "\n",
    "# Normalize the distance image for range = {0.0, 1.0}\n",
    "# so we can visualize and threshold it\n",
    "cv2.normalize(dist, dist, 0, 1.0, cv2.NORM_MINMAX)\n",
    "cv2.imshow('Distance Transform Image', dist)\n",
    "cv2.waitKey(0)\n",
    "cv2.destroyAllWindows()"
   ]
  },
  {
   "cell_type": "markdown",
   "id": "f54ccc0e",
   "metadata": {},
   "source": [
    "##### Threshold"
   ]
  },
  {
   "cell_type": "code",
   "execution_count": 8,
   "id": "c6e3915e",
   "metadata": {},
   "outputs": [],
   "source": [
    "# Threshold to obtain the peaks\n",
    "# This will be the markers for the foreground objects\n",
    "_, dist = cv2.threshold(dist, 0.4, 1.0, cv2.THRESH_BINARY)\n",
    "\n",
    "# Dilate a bit the dist image\n",
    "kernel1 = np.ones((3,3), dtype=np.uint8)\n",
    "dist = cv2.dilate(dist, kernel1)\n",
    "cv2.imshow('Peaks', dist)\n",
    "cv2.waitKey(0)\n",
    "cv2.destroyAllWindows()"
   ]
  },
  {
   "cell_type": "markdown",
   "id": "0bde7aab",
   "metadata": {},
   "source": [
    "##### Create and apply markers"
   ]
  },
  {
   "cell_type": "code",
   "execution_count": 11,
   "id": "4b9f7ef3",
   "metadata": {},
   "outputs": [
    {
     "ename": "ValueError",
     "evalue": "not enough values to unpack (expected 3, got 2)",
     "output_type": "error",
     "traceback": [
      "\u001b[1;31m---------------------------------------------------------------------------\u001b[0m",
      "\u001b[1;31mValueError\u001b[0m                                Traceback (most recent call last)",
      "\u001b[1;32m<ipython-input-11-deddffe96983>\u001b[0m in \u001b[0;36m<module>\u001b[1;34m\u001b[0m\n\u001b[0;32m      4\u001b[0m \u001b[1;33m\u001b[0m\u001b[0m\n\u001b[0;32m      5\u001b[0m \u001b[1;31m# Find total markers\u001b[0m\u001b[1;33m\u001b[0m\u001b[1;33m\u001b[0m\u001b[1;33m\u001b[0m\u001b[0m\n\u001b[1;32m----> 6\u001b[1;33m \u001b[0m_\u001b[0m\u001b[1;33m,\u001b[0m \u001b[0mcontours\u001b[0m\u001b[1;33m,\u001b[0m \u001b[0m__\u001b[0m \u001b[1;33m=\u001b[0m \u001b[0mcv2\u001b[0m\u001b[1;33m.\u001b[0m\u001b[0mfindContours\u001b[0m\u001b[1;33m(\u001b[0m\u001b[0mdist_8u\u001b[0m\u001b[1;33m,\u001b[0m \u001b[0mcv2\u001b[0m\u001b[1;33m.\u001b[0m\u001b[0mRETR_EXTERNAL\u001b[0m\u001b[1;33m,\u001b[0m \u001b[0mcv2\u001b[0m\u001b[1;33m.\u001b[0m\u001b[0mCHAIN_APPROX_SIMPLE\u001b[0m\u001b[1;33m)\u001b[0m\u001b[1;33m\u001b[0m\u001b[1;33m\u001b[0m\u001b[0m\n\u001b[0m\u001b[0;32m      7\u001b[0m \u001b[1;33m\u001b[0m\u001b[0m\n\u001b[0;32m      8\u001b[0m \u001b[1;31m# Create the marker image for the watershed algorithm\u001b[0m\u001b[1;33m\u001b[0m\u001b[1;33m\u001b[0m\u001b[1;33m\u001b[0m\u001b[0m\n",
      "\u001b[1;31mValueError\u001b[0m: not enough values to unpack (expected 3, got 2)"
     ]
    }
   ],
   "source": [
    "# Create the CV_8U version of the distance image\n",
    "# It is needed for findContours()\n",
    "dist_8u = dist.astype('uint8')\n",
    "\n",
    "# Find total markers\n",
    "_, contours, __ = cv2.findContours(dist_8u, cv2.RETR_EXTERNAL, cv2.CHAIN_APPROX_SIMPLE)\n",
    "\n",
    "# Create the marker image for the watershed algorithm\n",
    "markers = np.zeros(dist.shape, dtype=np.int32)\n",
    "\n",
    "# Draw the foreground markers\n",
    "for i in range(len(contours)):\n",
    "    cv.drawContours(markers, contours, i, (i+1), -1)\n",
    "    \n",
    "# Draw the background marker\n",
    "cv2.circle(markers, (5,5), 3, (255,255,255), -1)\n",
    "markers_8u = (markers * 10).astype('uint8')\n",
    "cv2.imshow('Markers', markers_8u)\n",
    "cv2.waitKey(0)\n",
    "cv2.destroyAllWindows()"
   ]
  },
  {
   "cell_type": "code",
   "execution_count": 10,
   "id": "0138a555",
   "metadata": {},
   "outputs": [
    {
     "ename": "NameError",
     "evalue": "name 'markers' is not defined",
     "output_type": "error",
     "traceback": [
      "\u001b[1;31m---------------------------------------------------------------------------\u001b[0m",
      "\u001b[1;31mNameError\u001b[0m                                 Traceback (most recent call last)",
      "\u001b[1;32m<ipython-input-10-1887919b313c>\u001b[0m in \u001b[0;36m<module>\u001b[1;34m\u001b[0m\n\u001b[0;32m      1\u001b[0m \u001b[1;31m# Perform the watershed algorithm\u001b[0m\u001b[1;33m\u001b[0m\u001b[1;33m\u001b[0m\u001b[1;33m\u001b[0m\u001b[0m\n\u001b[1;32m----> 2\u001b[1;33m \u001b[0mcv2\u001b[0m\u001b[1;33m.\u001b[0m\u001b[0mwatershed\u001b[0m\u001b[1;33m(\u001b[0m\u001b[0mimgResult\u001b[0m\u001b[1;33m,\u001b[0m \u001b[0mmarkers\u001b[0m\u001b[1;33m)\u001b[0m\u001b[1;33m\u001b[0m\u001b[1;33m\u001b[0m\u001b[0m\n\u001b[0m\u001b[0;32m      3\u001b[0m \u001b[1;33m\u001b[0m\u001b[0m\n\u001b[0;32m      4\u001b[0m \u001b[1;31m#mark = np.zeros(markers.shape, dtype=np.uint8)\u001b[0m\u001b[1;33m\u001b[0m\u001b[1;33m\u001b[0m\u001b[1;33m\u001b[0m\u001b[0m\n\u001b[0;32m      5\u001b[0m \u001b[0mmark\u001b[0m \u001b[1;33m=\u001b[0m \u001b[0mmarkers\u001b[0m\u001b[1;33m.\u001b[0m\u001b[0mastype\u001b[0m\u001b[1;33m(\u001b[0m\u001b[1;34m'uint8'\u001b[0m\u001b[1;33m)\u001b[0m\u001b[1;33m\u001b[0m\u001b[1;33m\u001b[0m\u001b[0m\n",
      "\u001b[1;31mNameError\u001b[0m: name 'markers' is not defined"
     ]
    }
   ],
   "source": [
    "# Perform the watershed algorithm\n",
    "cv2.watershed(imgResult, markers)\n",
    "\n",
    "#mark = np.zeros(markers.shape, dtype=np.uint8)\n",
    "mark = markers.astype('uint8')\n",
    "mark = cv2.bitwise_not(mark)\n",
    "\n",
    "# uncomment this if you want to see how the mark\n",
    "# image looks like at that point\n",
    "#cv.imshow('Markers_v2', mark)\n",
    "# Generate random colors\n",
    "colors = []\n",
    "for contour in contours:\n",
    "    colors.append((rng.randint(0,256), rng.randint(0,256), rng.randint(0,256)))\n",
    "    \n",
    "# Create the result image\n",
    "dst = np.zeros((markers.shape[0], markers.shape[1], 3), dtype=np.uint8)\n",
    "\n",
    "# Fill labeled objects with random colors\n",
    "for i in range(markers.shape[0]):\n",
    "    for j in range(markers.shape[1]):\n",
    "        index = markers[i,j]\n",
    "        if index > 0 and index <= len(contours):\n",
    "            dst[i,j,:] = colors[index-1]\n",
    "            \n",
    "# Visualize the final image\n",
    "cv2.imshow('Final Result', dst)\n",
    "cv2.waitKey(0)\n",
    "cv2.destroyAllWindows()"
   ]
  },
  {
   "cell_type": "markdown",
   "id": "94a98cf3",
   "metadata": {},
   "source": [
    "## Failed\n",
    "### Reasons: old-fashioned code\n",
    "### Alternatives: search other methods"
   ]
  },
  {
   "cell_type": "code",
   "execution_count": null,
   "id": "b7efd84e",
   "metadata": {},
   "outputs": [],
   "source": []
  }
 ],
 "metadata": {
  "kernelspec": {
   "display_name": "Python 3",
   "language": "python",
   "name": "python3"
  },
  "language_info": {
   "codemirror_mode": {
    "name": "ipython",
    "version": 3
   },
   "file_extension": ".py",
   "mimetype": "text/x-python",
   "name": "python",
   "nbconvert_exporter": "python",
   "pygments_lexer": "ipython3",
   "version": "3.8.8"
  }
 },
 "nbformat": 4,
 "nbformat_minor": 5
}
